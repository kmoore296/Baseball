{
 "cells": [
  {
   "cell_type": "code",
   "execution_count": 1,
   "metadata": {
    "collapsed": true
   },
   "outputs": [],
   "source": [
    "import pandas as pd\n",
    "import numpy as np\n",
    "#import datetime\n",
    "#from dateutil import parser\n",
    "#%matplotlib inline"
   ]
  },
  {
   "cell_type": "code",
   "execution_count": 2,
   "metadata": {},
   "outputs": [
    {
     "name": "stderr",
     "output_type": "stream",
     "text": [
      "C:\\Users\\Keenan\\Anaconda3\\lib\\site-packages\\IPython\\core\\interactiveshell.py:2698: DtypeWarning: Columns (63,64,65,84,85) have mixed types. Specify dtype option on import or set low_memory=False.\n",
      "  interactivity=interactivity, compiler=compiler, result=result)\n"
     ]
    },
    {
     "data": {
      "text/html": [
       "<div>\n",
       "<style>\n",
       "    .dataframe thead tr:only-child th {\n",
       "        text-align: right;\n",
       "    }\n",
       "\n",
       "    .dataframe thead th {\n",
       "        text-align: left;\n",
       "    }\n",
       "\n",
       "    .dataframe tbody tr th {\n",
       "        vertical-align: top;\n",
       "    }\n",
       "</style>\n",
       "<table border=\"1\" class=\"dataframe\">\n",
       "  <thead>\n",
       "    <tr style=\"text-align: right;\">\n",
       "      <th></th>\n",
       "      <th>0</th>\n",
       "      <th>1</th>\n",
       "      <th>2</th>\n",
       "      <th>3</th>\n",
       "      <th>4</th>\n",
       "      <th>5</th>\n",
       "      <th>6</th>\n",
       "      <th>7</th>\n",
       "      <th>8</th>\n",
       "      <th>9</th>\n",
       "      <th>...</th>\n",
       "      <th>149</th>\n",
       "      <th>150</th>\n",
       "      <th>151</th>\n",
       "      <th>152</th>\n",
       "      <th>153</th>\n",
       "      <th>154</th>\n",
       "      <th>155</th>\n",
       "      <th>156</th>\n",
       "      <th>157</th>\n",
       "      <th>year</th>\n",
       "    </tr>\n",
       "  </thead>\n",
       "  <tbody>\n",
       "    <tr>\n",
       "      <th>0</th>\n",
       "      <td>ANA201004050</td>\n",
       "      <td>MIN</td>\n",
       "      <td>1</td>\n",
       "      <td>0</td>\n",
       "      <td>0</td>\n",
       "      <td>2</td>\n",
       "      <td>2</td>\n",
       "      <td>CSBFFBFC</td>\n",
       "      <td>0</td>\n",
       "      <td>0</td>\n",
       "      <td>...</td>\n",
       "      <td>0</td>\n",
       "      <td>0</td>\n",
       "      <td>0</td>\n",
       "      <td>0</td>\n",
       "      <td>0</td>\n",
       "      <td>0</td>\n",
       "      <td>0</td>\n",
       "      <td>F</td>\n",
       "      <td>F</td>\n",
       "      <td>2010</td>\n",
       "    </tr>\n",
       "    <tr>\n",
       "      <th>1</th>\n",
       "      <td>ANA201004050</td>\n",
       "      <td>MIN</td>\n",
       "      <td>1</td>\n",
       "      <td>0</td>\n",
       "      <td>1</td>\n",
       "      <td>0</td>\n",
       "      <td>1</td>\n",
       "      <td>FX</td>\n",
       "      <td>0</td>\n",
       "      <td>0</td>\n",
       "      <td>...</td>\n",
       "      <td>0</td>\n",
       "      <td>0</td>\n",
       "      <td>0</td>\n",
       "      <td>0</td>\n",
       "      <td>0</td>\n",
       "      <td>0</td>\n",
       "      <td>0</td>\n",
       "      <td>F</td>\n",
       "      <td>F</td>\n",
       "      <td>2010</td>\n",
       "    </tr>\n",
       "    <tr>\n",
       "      <th>2</th>\n",
       "      <td>ANA201004050</td>\n",
       "      <td>MIN</td>\n",
       "      <td>1</td>\n",
       "      <td>0</td>\n",
       "      <td>2</td>\n",
       "      <td>1</td>\n",
       "      <td>1</td>\n",
       "      <td>CBX</td>\n",
       "      <td>0</td>\n",
       "      <td>0</td>\n",
       "      <td>...</td>\n",
       "      <td>0</td>\n",
       "      <td>0</td>\n",
       "      <td>0</td>\n",
       "      <td>0</td>\n",
       "      <td>0</td>\n",
       "      <td>0</td>\n",
       "      <td>0</td>\n",
       "      <td>F</td>\n",
       "      <td>F</td>\n",
       "      <td>2010</td>\n",
       "    </tr>\n",
       "    <tr>\n",
       "      <th>3</th>\n",
       "      <td>ANA201004050</td>\n",
       "      <td>MIN</td>\n",
       "      <td>1</td>\n",
       "      <td>1</td>\n",
       "      <td>0</td>\n",
       "      <td>3</td>\n",
       "      <td>2</td>\n",
       "      <td>BBCCFBFFFB</td>\n",
       "      <td>0</td>\n",
       "      <td>0</td>\n",
       "      <td>...</td>\n",
       "      <td>0</td>\n",
       "      <td>2</td>\n",
       "      <td>0</td>\n",
       "      <td>0</td>\n",
       "      <td>0</td>\n",
       "      <td>0</td>\n",
       "      <td>0</td>\n",
       "      <td>F</td>\n",
       "      <td>F</td>\n",
       "      <td>2010</td>\n",
       "    </tr>\n",
       "    <tr>\n",
       "      <th>4</th>\n",
       "      <td>ANA201004050</td>\n",
       "      <td>MIN</td>\n",
       "      <td>1</td>\n",
       "      <td>1</td>\n",
       "      <td>0</td>\n",
       "      <td>0</td>\n",
       "      <td>1</td>\n",
       "      <td>CX</td>\n",
       "      <td>0</td>\n",
       "      <td>0</td>\n",
       "      <td>...</td>\n",
       "      <td>0</td>\n",
       "      <td>2</td>\n",
       "      <td>0</td>\n",
       "      <td>0</td>\n",
       "      <td>0</td>\n",
       "      <td>0</td>\n",
       "      <td>0</td>\n",
       "      <td>F</td>\n",
       "      <td>F</td>\n",
       "      <td>2010</td>\n",
       "    </tr>\n",
       "  </tbody>\n",
       "</table>\n",
       "<p>5 rows × 159 columns</p>\n",
       "</div>"
      ],
      "text/plain": [
       "              0    1  2  3  4  5  6           7  8  9  ...  149 150 151 152  \\\n",
       "0  ANA201004050  MIN  1  0  0  2  2    CSBFFBFC  0  0  ...    0   0   0   0   \n",
       "1  ANA201004050  MIN  1  0  1  0  1          FX  0  0  ...    0   0   0   0   \n",
       "2  ANA201004050  MIN  1  0  2  1  1         CBX  0  0  ...    0   0   0   0   \n",
       "3  ANA201004050  MIN  1  1  0  3  2  BBCCFBFFFB  0  0  ...    0   2   0   0   \n",
       "4  ANA201004050  MIN  1  1  0  0  1          CX  0  0  ...    0   2   0   0   \n",
       "\n",
       "  153 154 155 156 157  year  \n",
       "0   0   0   0   F   F  2010  \n",
       "1   0   0   0   F   F  2010  \n",
       "2   0   0   0   F   F  2010  \n",
       "3   0   0   0   F   F  2010  \n",
       "4   0   0   0   F   F  2010  \n",
       "\n",
       "[5 rows x 159 columns]"
      ]
     },
     "execution_count": 2,
     "metadata": {},
     "output_type": "execute_result"
    }
   ],
   "source": [
    "#reads csv as Pandas dataframe\n",
    "baseball10 = pd.read_csv('C:\\\\Users\\\\Keenan\\\\Desktop\\\\Retrosheet\\\\data\\\\parsed\\\\all2010.csv', header=None)\n",
    "#adds year column\n",
    "baseball10[\"year\"]=2010\n",
    "\n",
    "baseball11 = pd.read_csv('C:\\\\Users\\\\Keenan\\\\Desktop\\\\Retrosheet\\\\data\\\\parsed\\\\all2011.csv', header=None)\n",
    "#adds year column\n",
    "baseball11[\"year\"]=2011\n",
    "\n",
    "baseball12 = pd.read_csv('C:\\\\Users\\\\Keenan\\\\Desktop\\\\Retrosheet\\\\data\\\\parsed\\\\all2012.csv', header=None)\n",
    "#adds year column\n",
    "baseball12[\"year\"]=2012\n",
    "\n",
    "baseball13 = pd.read_csv('C:\\\\Users\\\\Keenan\\\\Desktop\\\\Retrosheet\\\\data\\\\parsed\\\\all2013.csv', header=None)\n",
    "#adds year column\n",
    "baseball13[\"year\"]=2013\n",
    "\n",
    "baseball14 = pd.read_csv('C:\\\\Users\\\\Keenan\\\\Desktop\\\\Retrosheet\\\\data\\\\parsed\\\\all2014.csv', header=None)\n",
    "#adds year column\n",
    "baseball14[\"year\"]=2014\n",
    "\n",
    "#merges years\n",
    "frames = [baseball10,baseball11,baseball12,baseball13,baseball14]\n",
    "baseball=pd.concat(frames)\n",
    "\n",
    "#preview of data\n",
    "baseball.head()"
   ]
  },
  {
   "cell_type": "code",
   "execution_count": 3,
   "metadata": {
    "collapsed": true
   },
   "outputs": [],
   "source": [
    "#makes copy of DF\n",
    "baseballed = baseball\n",
    "#columnsineed=[34,33,29,30,28,27,26]\n",
    "\n",
    "#creates list of columns to drop, drops\n",
    "dlist=[1,5,6,7,12,13,16,17,31,32]\n",
    "for i in range(35,46):\n",
    "    dlist.append(i)\n",
    "for i in range(56,78):\n",
    "    dlist.append(i)\n",
    "for i in range(80,158):\n",
    "    dlist.append(i)\n",
    "baseballed=baseballed.drop(dlist,axis=1)\n",
    "\n",
    "#renames columns\n",
    "colnames = [\"num\",\"inning\",\"home\",\"outs\",\"awscore\",\"hoscore\",\"batter\",\"bathand\",\"pitcher\",\"pithand\",\"pos2\",\"pos3\",\"pos4\",\"pos5\",\"pos6\",\"pos7\",\"pos8\",\"pos9\",\"run1st\",\"run2nd\",\"run3rd\",\"event\",\"leadoff\",\"lineup\",\"eventtype\",\"fieldedby\",\"hittype\",\"bunt\",\"foul\",\"hitloc\",\"errnum\",\"errplayer1\",\"td1\",\"errplayer2\",\"td2\",\"first\",\"last\",\"year\"]\n",
    "baseballed.columns = [colnames]\n",
    "\n",
    "#adds index and year columns\n",
    "baseballed[\"index\"] = range(len(baseballed))"
   ]
  },
  {
   "cell_type": "code",
   "execution_count": 4,
   "metadata": {},
   "outputs": [
    {
     "name": "stdout",
     "output_type": "stream",
     "text": [
      "{'num': 0, 'inning': 2, 'home': 3, 'outs': 4, 'awscore': 8, 'hoscore': 9, 'batter': 10, 'bathand': 11, 'pitcher': 14, 'pithand': 15, 'pos2': 18, 'pos3': 19, 'pos4': 20, 'pos5': 21, 'pos6': 22, 'pos7': 23, 'pos8': 24, 'pos9': 25, 'run1st': 26, 'run2nd': 27, 'run3rd': 28, 'event': 29, 'leadoff': 30, 'lineup': 33, 'eventtype': 34, 'fieldedby': 46, 'hittype': 47, 'bunt': 48, 'foul': 49, 'hitloc': 50, 'errnum': 51, 'errplayer1': 52, 'td1': 53, 'errplayer2': 54, 'td2': 55, 'first': 78, 'last': 79}\n"
     ]
    }
   ],
   "source": [
    "#builds dictionary for col numbers and names for easy access\n",
    "numlist = []\n",
    "for i in range(0,158):\n",
    "    numlist.append(i)\n",
    "\n",
    "for i in dlist:\n",
    "    if i in numlist:\n",
    "        numlist.remove(i)\n",
    "\n",
    "names = []\n",
    "for i in colnames:\n",
    "    if i == 'year':\n",
    "        break\n",
    "    else:\n",
    "        names.append(i)      \n",
    "\n",
    "dictionary = dict(zip(names,numlist))\n",
    "print(dictionary)"
   ]
  },
  {
   "cell_type": "code",
   "execution_count": 5,
   "metadata": {},
   "outputs": [
    {
     "data": {
      "text/html": [
       "<div>\n",
       "<style>\n",
       "    .dataframe thead tr:only-child th {\n",
       "        text-align: right;\n",
       "    }\n",
       "\n",
       "    .dataframe thead th {\n",
       "        text-align: left;\n",
       "    }\n",
       "\n",
       "    .dataframe tbody tr th {\n",
       "        vertical-align: top;\n",
       "    }\n",
       "</style>\n",
       "<table border=\"1\" class=\"dataframe\">\n",
       "  <thead>\n",
       "    <tr style=\"text-align: right;\">\n",
       "      <th></th>\n",
       "      <th>num</th>\n",
       "      <th>inning</th>\n",
       "      <th>home</th>\n",
       "      <th>outs</th>\n",
       "      <th>awscore</th>\n",
       "      <th>hoscore</th>\n",
       "      <th>batter</th>\n",
       "      <th>bathand</th>\n",
       "      <th>pitcher</th>\n",
       "      <th>pithand</th>\n",
       "      <th>...</th>\n",
       "      <th>td2</th>\n",
       "      <th>first</th>\n",
       "      <th>last</th>\n",
       "      <th>year</th>\n",
       "      <th>index</th>\n",
       "      <th>stad</th>\n",
       "      <th>month</th>\n",
       "      <th>day</th>\n",
       "      <th>dh</th>\n",
       "      <th>dh2</th>\n",
       "    </tr>\n",
       "  </thead>\n",
       "  <tbody>\n",
       "    <tr>\n",
       "      <th>0</th>\n",
       "      <td>ANA201004050</td>\n",
       "      <td>1</td>\n",
       "      <td>0</td>\n",
       "      <td>0</td>\n",
       "      <td>0</td>\n",
       "      <td>0</td>\n",
       "      <td>spand001</td>\n",
       "      <td>L</td>\n",
       "      <td>weavj003</td>\n",
       "      <td>R</td>\n",
       "      <td>...</td>\n",
       "      <td>N</td>\n",
       "      <td>T</td>\n",
       "      <td>F</td>\n",
       "      <td>2010</td>\n",
       "      <td>0</td>\n",
       "      <td>ANA</td>\n",
       "      <td>04</td>\n",
       "      <td>05</td>\n",
       "      <td>0</td>\n",
       "      <td>0</td>\n",
       "    </tr>\n",
       "    <tr>\n",
       "      <th>1</th>\n",
       "      <td>ANA201004050</td>\n",
       "      <td>1</td>\n",
       "      <td>0</td>\n",
       "      <td>1</td>\n",
       "      <td>0</td>\n",
       "      <td>0</td>\n",
       "      <td>hudso001</td>\n",
       "      <td>L</td>\n",
       "      <td>weavj003</td>\n",
       "      <td>R</td>\n",
       "      <td>...</td>\n",
       "      <td>N</td>\n",
       "      <td>F</td>\n",
       "      <td>F</td>\n",
       "      <td>2010</td>\n",
       "      <td>1</td>\n",
       "      <td>ANA</td>\n",
       "      <td>04</td>\n",
       "      <td>05</td>\n",
       "      <td>0</td>\n",
       "      <td>0</td>\n",
       "    </tr>\n",
       "    <tr>\n",
       "      <th>2</th>\n",
       "      <td>ANA201004050</td>\n",
       "      <td>1</td>\n",
       "      <td>0</td>\n",
       "      <td>2</td>\n",
       "      <td>0</td>\n",
       "      <td>0</td>\n",
       "      <td>mauej001</td>\n",
       "      <td>L</td>\n",
       "      <td>weavj003</td>\n",
       "      <td>R</td>\n",
       "      <td>...</td>\n",
       "      <td>N</td>\n",
       "      <td>F</td>\n",
       "      <td>F</td>\n",
       "      <td>2010</td>\n",
       "      <td>2</td>\n",
       "      <td>ANA</td>\n",
       "      <td>04</td>\n",
       "      <td>05</td>\n",
       "      <td>0</td>\n",
       "      <td>0</td>\n",
       "    </tr>\n",
       "    <tr>\n",
       "      <th>3</th>\n",
       "      <td>ANA201004050</td>\n",
       "      <td>1</td>\n",
       "      <td>1</td>\n",
       "      <td>0</td>\n",
       "      <td>0</td>\n",
       "      <td>0</td>\n",
       "      <td>aybae001</td>\n",
       "      <td>L</td>\n",
       "      <td>bakes002</td>\n",
       "      <td>R</td>\n",
       "      <td>...</td>\n",
       "      <td>N</td>\n",
       "      <td>F</td>\n",
       "      <td>F</td>\n",
       "      <td>2010</td>\n",
       "      <td>3</td>\n",
       "      <td>ANA</td>\n",
       "      <td>04</td>\n",
       "      <td>05</td>\n",
       "      <td>0</td>\n",
       "      <td>0</td>\n",
       "    </tr>\n",
       "    <tr>\n",
       "      <th>4</th>\n",
       "      <td>ANA201004050</td>\n",
       "      <td>1</td>\n",
       "      <td>1</td>\n",
       "      <td>0</td>\n",
       "      <td>0</td>\n",
       "      <td>0</td>\n",
       "      <td>abreb001</td>\n",
       "      <td>L</td>\n",
       "      <td>bakes002</td>\n",
       "      <td>R</td>\n",
       "      <td>...</td>\n",
       "      <td>N</td>\n",
       "      <td>F</td>\n",
       "      <td>F</td>\n",
       "      <td>2010</td>\n",
       "      <td>4</td>\n",
       "      <td>ANA</td>\n",
       "      <td>04</td>\n",
       "      <td>05</td>\n",
       "      <td>0</td>\n",
       "      <td>0</td>\n",
       "    </tr>\n",
       "  </tbody>\n",
       "</table>\n",
       "<p>5 rows × 44 columns</p>\n",
       "</div>"
      ],
      "text/plain": [
       "            num  inning  home  outs  awscore  hoscore    batter bathand  \\\n",
       "0  ANA201004050       1     0     0        0        0  spand001       L   \n",
       "1  ANA201004050       1     0     1        0        0  hudso001       L   \n",
       "2  ANA201004050       1     0     2        0        0  mauej001       L   \n",
       "3  ANA201004050       1     1     0        0        0  aybae001       L   \n",
       "4  ANA201004050       1     1     0        0        0  abreb001       L   \n",
       "\n",
       "    pitcher pithand ... td2 first last  year index stad month day dh dh2  \n",
       "0  weavj003       R ...   N     T    F  2010     0  ANA    04  05  0   0  \n",
       "1  weavj003       R ...   N     F    F  2010     1  ANA    04  05  0   0  \n",
       "2  weavj003       R ...   N     F    F  2010     2  ANA    04  05  0   0  \n",
       "3  bakes002       R ...   N     F    F  2010     3  ANA    04  05  0   0  \n",
       "4  bakes002       R ...   N     F    F  2010     4  ANA    04  05  0   0  \n",
       "\n",
       "[5 rows x 44 columns]"
      ]
     },
     "execution_count": 5,
     "metadata": {},
     "output_type": "execute_result"
    }
   ],
   "source": [
    "#creates columns for numerical day and month, as well as 3 char stadium strings and a double-header dummy\n",
    "#remember to convert these into dummies for regression\n",
    "nlist = []\n",
    "stadium = []\n",
    "month = []\n",
    "day = []\n",
    "dhlist = []\n",
    "dh2list = []\n",
    "\n",
    "for i in baseballed['num']:\n",
    "    nlist.append(i)\n",
    "\n",
    "for i in nlist:\n",
    "    st = str(i[0]+i[1]+i[2])\n",
    "    stadium.append(st)\n",
    "    \n",
    "    mo = str(i[7]+i[8])\n",
    "    month.append(mo)\n",
    "    \n",
    "    d = str(i[9]+i[10])\n",
    "    day.append(d)\n",
    "    \n",
    "    if i[11]==2:\n",
    "        dhlist.append(1)\n",
    "        dh2list.append(1)\n",
    "    elif i[11]==1:\n",
    "        dhlist.append(1)\n",
    "        dh2list.append(0)\n",
    "    else:\n",
    "        dhlist.append(0)\n",
    "        dh2list.append(0)\n",
    "    \n",
    "baseballed['stad']=stadium\n",
    "baseballed['month']=month\n",
    "baseballed['day']=day\n",
    "baseballed['dh']=dhlist\n",
    "baseballed['dh2']=dh2list\n",
    "baseballed.head()"
   ]
  },
  {
   "cell_type": "code",
   "execution_count": 6,
   "metadata": {
    "collapsed": true
   },
   "outputs": [],
   "source": [
    "baseballed2=baseballed.drop(['num','pos2','pos3','pos4','pos5','pos6','pos7','pos8','pos9','pitcher','batter','event','hitloc'],axis=1)"
   ]
  },
  {
   "cell_type": "code",
   "execution_count": 7,
   "metadata": {},
   "outputs": [
    {
     "name": "stdout",
     "output_type": "stream",
     "text": [
      "955426\n"
     ]
    }
   ],
   "source": [
    "#creates fblist, which is the game number of each entry\n",
    "fb = []\n",
    "fblist = []\n",
    "fbnum = 0\n",
    "for i in baseballed2['first']:\n",
    "    fb.append(i)\n",
    "for i in range(len(fb)):\n",
    "    if fb[i]=='T':\n",
    "        fbnum = fbnum+1\n",
    "        fblist.append(fbnum)\n",
    "    else:\n",
    "        fblist.append(fbnum)\n",
    "print(len(fblist))\n",
    "\n",
    "#adds gamenum column for each entry, indexed at 1\n",
    "baseballed2['gamenum']=fblist"
   ]
  },
  {
   "cell_type": "code",
   "execution_count": 8,
   "metadata": {
    "collapsed": true
   },
   "outputs": [
    {
     "name": "stdout",
     "output_type": "stream",
     "text": [
      "<class 'pandas.core.frame.DataFrame'>\n",
      "Int64Index: 955426 entries, 0 to 190045\n",
      "Data columns (total 30 columns):\n",
      "inning        955426 non-null int64\n",
      "home          955426 non-null int64\n",
      "outs          955426 non-null int64\n",
      "awscore       955426 non-null int64\n",
      "hoscore       955426 non-null int64\n",
      "bathand       955426 non-null object\n",
      "pithand       955426 non-null object\n",
      "run1st        303894 non-null object\n",
      "run2nd        191334 non-null object\n",
      "run3rd        99483 non-null object\n",
      "leadoff       955426 non-null object\n",
      "lineup        955426 non-null int64\n",
      "eventtype     955426 non-null int64\n",
      "fieldedby     955426 non-null int64\n",
      "hittype       662987 non-null object\n",
      "bunt          955426 non-null object\n",
      "foul          955426 non-null object\n",
      "errnum        955426 non-null int64\n",
      "errplayer1    955426 non-null int64\n",
      "td1           955426 non-null object\n",
      "errplayer2    955426 non-null int64\n",
      "td2           955426 non-null object\n",
      "year          955426 non-null int64\n",
      "index         955426 non-null int32\n",
      "stad          955426 non-null object\n",
      "month         955426 non-null object\n",
      "day           955426 non-null object\n",
      "dh            955426 non-null int64\n",
      "dh2           955426 non-null int64\n",
      "gamenum       955426 non-null int64\n",
      "dtypes: int32(1), int64(15), object(14)\n",
      "memory usage: 222.3+ MB\n"
     ]
    }
   ],
   "source": [
    "#drops first and last columns which are no longer needed, returns info\n",
    "baseballed2=baseballed2.drop(['first','last'],axis=1)\n",
    "baseballed2.info()"
   ]
  },
  {
   "cell_type": "code",
   "execution_count": 9,
   "metadata": {
    "collapsed": true,
    "scrolled": true
   },
   "outputs": [],
   "source": [
    "#replaces nulls with 0\n",
    "baseballed2 = baseballed2.fillna(0)"
   ]
  },
  {
   "cell_type": "code",
   "execution_count": 10,
   "metadata": {
    "collapsed": true
   },
   "outputs": [],
   "source": [
    "#replaces baserunner names with 1s, keeps 0s\n",
    "#these fields are now basically dummy vars\n",
    "\n",
    "firlist = []\n",
    "seclist = []\n",
    "thilist = []\n",
    "\n",
    "for i in baseballed2['run1st']:\n",
    "    if i==0:\n",
    "        firlist.append(0)\n",
    "    else:\n",
    "        firlist.append(1)\n",
    "\n",
    "for i in baseballed2['run2nd']:\n",
    "    if i==0:\n",
    "        seclist.append(0)\n",
    "    else:\n",
    "        seclist.append(1)        \n",
    "        \n",
    "for i in baseballed2['run3rd']:\n",
    "    if i==0:\n",
    "        thilist.append(0)\n",
    "    else:\n",
    "        thilist.append(1)\n",
    "        \n",
    "runlist=firlist\n",
    "for i in range(len(runlist)):\n",
    "    if seclist[i]==1:\n",
    "        runlist[i]=1\n",
    "    if thilist[i]==1:\n",
    "        runlist[i]=1\n",
    "\n",
    "#print(len(runlist))        \n",
    "        \n",
    "baseballed2['run1st']=firlist\n",
    "baseballed2['run2nd']=seclist\n",
    "baseballed2['run3rd']=thilist\n",
    "baseballed2['runners']=runlist"
   ]
  },
  {
   "cell_type": "code",
   "execution_count": 11,
   "metadata": {
    "collapsed": true
   },
   "outputs": [],
   "source": [
    "#converts leadoff to int dummy var\n",
    "leadlist = []\n",
    "llist = []\n",
    "\n",
    "for i in baseballed2['leadoff']:\n",
    "    llist.append(i)\n",
    "\n",
    "for i in llist:\n",
    "    if i == 'T':\n",
    "        leadlist.append(1)\n",
    "    else:\n",
    "        leadlist.append(0)\n",
    "\n",
    "baseballed2['leadoff']=leadlist\n",
    "#print(baseballed2['leadoff'][:15])"
   ]
  },
  {
   "cell_type": "code",
   "execution_count": 12,
   "metadata": {
    "collapsed": true
   },
   "outputs": [],
   "source": [
    "#converts bunt to binary int\n",
    "blist = []\n",
    "buntlist = []\n",
    "\n",
    "for i in baseballed2['bunt']:\n",
    "    blist.append(i)\n",
    "\n",
    "for i in blist:\n",
    "    if i == 'F':\n",
    "        buntlist.append(0)\n",
    "    else:\n",
    "        buntlist.append(1)\n",
    "\n",
    "baseballed2['bunt']=buntlist\n",
    "#print(baseballed2['bunt'][:15])"
   ]
  },
  {
   "cell_type": "code",
   "execution_count": 13,
   "metadata": {
    "collapsed": true
   },
   "outputs": [],
   "source": [
    "#converts foul to binary\n",
    "flist = []\n",
    "follist = []\n",
    "\n",
    "for i in baseballed2['foul']:\n",
    "    flist.append(i)\n",
    "\n",
    "for i in flist:\n",
    "    if i == 'F':\n",
    "        follist.append(0)\n",
    "    else:\n",
    "        follist.append(1)\n",
    "\n",
    "baseballed2['foul']=follist\n",
    "#print(baseballed2['foul'][:15])"
   ]
  },
  {
   "cell_type": "code",
   "execution_count": 14,
   "metadata": {
    "collapsed": true
   },
   "outputs": [],
   "source": [
    "#bathand and pithand\n",
    "blist = []\n",
    "batlist = []\n",
    "\n",
    "for i in baseballed2['bathand']:\n",
    "    blist.append(i)\n",
    "\n",
    "for i in blist:\n",
    "    if i == 'R':\n",
    "        batlist.append(0)\n",
    "    else:\n",
    "        batlist.append(1)\n",
    "\n",
    "baseballed2['batleft']=batlist\n",
    "#print(baseballed2['batleft'][:15])\n",
    "\n",
    "plist = []\n",
    "pitlist = []\n",
    "\n",
    "for i in baseballed2['pithand']:\n",
    "    plist.append(i)\n",
    "\n",
    "for i in plist:\n",
    "    if i == 'R':\n",
    "        pitlist.append(0)\n",
    "    else:\n",
    "        pitlist.append(1)\n",
    "\n",
    "baseballed2['pitleft']=pitlist"
   ]
  },
  {
   "cell_type": "code",
   "execution_count": 15,
   "metadata": {
    "collapsed": true
   },
   "outputs": [],
   "source": [
    "baseballed2=baseballed2.drop(['pithand','bathand'],axis=1)"
   ]
  },
  {
   "cell_type": "markdown",
   "metadata": {},
   "source": [
    "<pre>What do I want to find here? What are my dependent variables?\n",
    "-Did a throw error occur on the play?\n",
    "-Did a drop error occur on the play?\n",
    "\n",
    "Do I want to consider whether a prior error occurred on the play?\n",
    "-It seems like it should be easy but also unlikely to be significant so lets circle back to it if there's time\n",
    "</pre>"
   ]
  },
  {
   "cell_type": "code",
   "execution_count": 16,
   "metadata": {
    "collapsed": true
   },
   "outputs": [],
   "source": [
    "#errors\n",
    "ethlist = []\n",
    "edrlist = []\n",
    "errlist = []\n",
    "\n",
    "elist = []\n",
    "for i in baseballed2['td1']:\n",
    "    elist.append(i)\n",
    "    \n",
    "e2list = []\n",
    "for i in baseballed2['td2']:\n",
    "    e2list.append(i)\n",
    "    \n",
    "for i in elist:\n",
    "    if i == 'T':\n",
    "        errlist.append(1)\n",
    "        ethlist.append(1)\n",
    "        edrlist.append(0)\n",
    "    elif i == 'D':\n",
    "        errlist.append(1)\n",
    "        edrlist.append(1)\n",
    "        ethlist.append(0)\n",
    "    else:\n",
    "        errlist.append(0)\n",
    "        edrlist.append(0)\n",
    "        ethlist.append(0)\n",
    "\n",
    "for i in range(len(errlist)):\n",
    "    if e2list[i] =='T':\n",
    "        ethlist[i] = 1\n",
    "    elif e2list[i] =='D':\n",
    "        edrlist[i] = 1\n",
    "\n",
    "baseballed2['errthrow']=ethlist\n",
    "baseballed2['errcatch']=ethlist\n",
    "baseballed2['error']=errlist"
   ]
  },
  {
   "cell_type": "code",
   "execution_count": 17,
   "metadata": {
    "collapsed": true
   },
   "outputs": [],
   "source": [
    "baseballed2=baseballed2.drop(['td1','td2','errnum'],axis=1)"
   ]
  },
  {
   "cell_type": "code",
   "execution_count": 18,
   "metadata": {
    "collapsed": true,
    "scrolled": true
   },
   "outputs": [],
   "source": [
    "#hittype: F = flyball, L = linedrive, P = popup, G = grounder, 0 = nocontact\n",
    "hlist = []\n",
    "for i in baseballed2['hittype']:\n",
    "    hlist.append(i)\n",
    "    \n",
    "grounder = []\n",
    "linedrive = []\n",
    "popup = []\n",
    "flyball =[]\n",
    "\n",
    "for i in hlist:\n",
    "    if i == 'G':\n",
    "        grounder.append(1)\n",
    "        linedrive.append(0)\n",
    "        popup.append(0)\n",
    "        flyball.append(0)\n",
    "    elif i == 'P':\n",
    "        grounder.append(0)\n",
    "        linedrive.append(0)\n",
    "        popup.append(1)\n",
    "        flyball.append(0)\n",
    "    elif i == 'F':\n",
    "        grounder.append(0)\n",
    "        linedrive.append(0)\n",
    "        popup.append(0)\n",
    "        flyball.append(1)\n",
    "    elif i == 'L':\n",
    "        grounder.append(0)\n",
    "        linedrive.append(1)\n",
    "        popup.append(0)\n",
    "        flyball.append(0)\n",
    "    elif i == 0:\n",
    "        grounder.append(0)\n",
    "        linedrive.append(0)\n",
    "        popup.append(0)\n",
    "        flyball.append(0)\n",
    "\n",
    "baseballed2['flyball']=flyball\n",
    "baseballed2['grounder']=grounder\n",
    "baseballed2['linedrive']=linedrive\n",
    "baseballed2['popup']=popup"
   ]
  },
  {
   "cell_type": "code",
   "execution_count": 19,
   "metadata": {
    "collapsed": true
   },
   "outputs": [],
   "source": [
    "baseballed2=baseballed2.drop(['hittype'],axis=1)"
   ]
  },
  {
   "cell_type": "code",
   "execution_count": 20,
   "metadata": {
    "collapsed": true,
    "scrolled": true
   },
   "outputs": [],
   "source": [
    "#creates dummys for months\n",
    "mlist =[]\n",
    "for i in baseballed2['month']:\n",
    "    mlist.append(i)\n",
    "\n",
    "march =[]\n",
    "april =[]\n",
    "may =[]\n",
    "june =[]\n",
    "july =[]\n",
    "august =[]\n",
    "september =[]\n",
    "october =[]    \n",
    "    \n",
    "def dummy(month):\n",
    "    othermonths=[march,april,may,june,july,august,september,october]\n",
    "    othermonths.remove(month)\n",
    "    for i in othermonths:\n",
    "        i.append(0)\n",
    "    month.append(1)\n",
    "\n",
    "for i in mlist:\n",
    "    if i =='03':\n",
    "        dummy(march)\n",
    "    elif i =='04':\n",
    "        dummy(april)\n",
    "    elif i =='05':\n",
    "        dummy(may)\n",
    "    elif i =='06':\n",
    "        dummy(june)\n",
    "    elif i =='07':\n",
    "        dummy(july)\n",
    "    elif i =='08':\n",
    "        dummy(august)\n",
    "    elif i =='09':\n",
    "        dummy(september)\n",
    "    elif i =='10':\n",
    "        dummy(october)\n",
    "        \n",
    "#for some reason it adds the first 0 for march to the april list, and presumably omits the first value in march, so...\n",
    "april.pop(0)\n",
    "march.insert(0,0)\n",
    "\n",
    "baseballed2['march']=march\n",
    "baseballed2['april']=april\n",
    "baseballed2['may']=may\n",
    "baseballed2['june']=june\n",
    "baseballed2['july']=july\n",
    "baseballed2['august']=august\n",
    "baseballed2['september']=september\n",
    "baseballed2['october']=october"
   ]
  },
  {
   "cell_type": "code",
   "execution_count": 21,
   "metadata": {
    "collapsed": true
   },
   "outputs": [],
   "source": [
    "#overwriting baseballed with current state of baseballed2 so that I can mess around deleting rows in baseballed2\n",
    "baseballed=baseballed2"
   ]
  },
  {
   "cell_type": "code",
   "execution_count": 22,
   "metadata": {
    "collapsed": true
   },
   "outputs": [
    {
     "name": "stdout",
     "output_type": "stream",
     "text": [
      "<class 'pandas.core.frame.DataFrame'>\n",
      "Int64Index: 955426 entries, 0 to 190045\n",
      "Data columns (total 42 columns):\n",
      "inning        955426 non-null int64\n",
      "home          955426 non-null int64\n",
      "outs          955426 non-null int64\n",
      "awscore       955426 non-null int64\n",
      "hoscore       955426 non-null int64\n",
      "run1st        955426 non-null int64\n",
      "run2nd        955426 non-null int64\n",
      "run3rd        955426 non-null int64\n",
      "leadoff       955426 non-null int64\n",
      "lineup        955426 non-null int64\n",
      "eventtype     955426 non-null int64\n",
      "fieldedby     955426 non-null int64\n",
      "bunt          955426 non-null int64\n",
      "foul          955426 non-null int64\n",
      "errplayer1    955426 non-null int64\n",
      "errplayer2    955426 non-null int64\n",
      "year          955426 non-null int64\n",
      "index         955426 non-null int32\n",
      "stad          955426 non-null object\n",
      "month         955426 non-null object\n",
      "day           955426 non-null object\n",
      "dh            955426 non-null int64\n",
      "dh2           955426 non-null int64\n",
      "gamenum       955426 non-null int64\n",
      "runners       955426 non-null int64\n",
      "batleft       955426 non-null int64\n",
      "pitleft       955426 non-null int64\n",
      "errthrow      955426 non-null int64\n",
      "errcatch      955426 non-null int64\n",
      "error         955426 non-null int64\n",
      "flyball       955426 non-null int64\n",
      "grounder      955426 non-null int64\n",
      "linedrive     955426 non-null int64\n",
      "popup         955426 non-null int64\n",
      "march         955426 non-null int64\n",
      "april         955426 non-null int64\n",
      "may           955426 non-null int64\n",
      "june          955426 non-null int64\n",
      "july          955426 non-null int64\n",
      "august        955426 non-null int64\n",
      "september     955426 non-null int64\n",
      "october       955426 non-null int64\n",
      "dtypes: int32(1), int64(38), object(3)\n",
      "memory usage: 309.8+ MB\n"
     ]
    }
   ],
   "source": [
    "#recopies baseballed over to baseballed2\n",
    "baseballed2=baseballed\n",
    "baseballed2.info()"
   ]
  },
  {
   "cell_type": "code",
   "execution_count": 23,
   "metadata": {
    "collapsed": true
   },
   "outputs": [],
   "source": [
    "tlist =[]\n",
    "for i in baseballed2['eventtype']:\n",
    "    tlist.append(i)\n",
    "\n",
    "badindex =[]\n",
    "for i in range(len(tlist)):\n",
    "    if tlist[i]==3:\n",
    "        badindex.append(0)\n",
    "    elif tlist[i]==15:\n",
    "        badindex.append(0)\n",
    "    elif tlist[i]==16:\n",
    "        badindex.append(0)\n",
    "    else:\n",
    "        badindex.append(1)\n",
    "#print(len(badindex))\n",
    "#print(badindex[:20])\n",
    "\n",
    "baseballed2['keep']=badindex\n",
    "baseballed2=baseballed2[baseballed2['keep']==1]"
   ]
  },
  {
   "cell_type": "markdown",
   "metadata": {},
   "source": [
    "<pre>need to remove events where the ball isnt really\n",
    "in play, consistent with thesis\n",
    "\n",
    "event types: strikeout(3), intentional walk(15),\n",
    "hit by pitch(16)\n",
    "\n",
    "\n",
    "FUCKING DID IT\n",
    "</pre>"
   ]
  },
  {
   "cell_type": "code",
   "execution_count": 24,
   "metadata": {
    "collapsed": true
   },
   "outputs": [],
   "source": [
    "baseballed2=baseballed2.drop(['keep'],axis=1)"
   ]
  },
  {
   "cell_type": "markdown",
   "metadata": {},
   "source": [
    "<pre>Dependent variables: error, errthrow, errcatch\n",
    "\n",
    "Non-binary variables: stad, month, day, year, errplayer1, errplayer2, inning,\n",
    "                      outs, awscore, hoscore, lineup, fieldedby, gamnum\n",
    "\n",
    "Binary variables: home, run1st, run2nd, run3rd, leadoff, bunt, foul, batleft,\n",
    "                  pitleft, flyball, grounder, linedrive, popup, runnners\n",
    "\n",
    "Other: index, eventtype\n",
    "</pre>"
   ]
  },
  {
   "cell_type": "code",
   "execution_count": 25,
   "metadata": {
    "collapsed": true
   },
   "outputs": [],
   "source": [
    "dummystad = pd.get_dummies(baseballed2['stad'])\n",
    "bbfinal = pd.concat([baseballed2,dummystad],axis=1)"
   ]
  },
  {
   "cell_type": "code",
   "execution_count": 26,
   "metadata": {
    "collapsed": true
   },
   "outputs": [],
   "source": [
    "bbfinal=bbfinal.drop(['index','stad'],axis=1)"
   ]
  },
  {
   "cell_type": "code",
   "execution_count": 27,
   "metadata": {
    "collapsed": true,
    "scrolled": true
   },
   "outputs": [],
   "source": [
    "dummyfield = pd.get_dummies(bbfinal['fieldedby'])\n",
    "bbfinal = pd.concat([bbfinal,dummyfield],axis=1)"
   ]
  },
  {
   "cell_type": "code",
   "execution_count": 28,
   "metadata": {
    "scrolled": true
   },
   "outputs": [
    {
     "name": "stdout",
     "output_type": "stream",
     "text": [
      "<class 'pandas.core.frame.DataFrame'>\n",
      "Int64Index: 637078 entries, 1 to 190045\n",
      "Data columns (total 81 columns):\n",
      "inning        637078 non-null int64\n",
      "home          637078 non-null int64\n",
      "outs          637078 non-null int64\n",
      "awscore       637078 non-null int64\n",
      "hoscore       637078 non-null int64\n",
      "run1st        637078 non-null int64\n",
      "run2nd        637078 non-null int64\n",
      "run3rd        637078 non-null int64\n",
      "leadoff       637078 non-null int64\n",
      "lineup        637078 non-null int64\n",
      "eventtype     637078 non-null int64\n",
      "fieldedby     637078 non-null int64\n",
      "bunt          637078 non-null int64\n",
      "foul          637078 non-null int64\n",
      "errplayer1    637078 non-null int64\n",
      "errplayer2    637078 non-null int64\n",
      "year          637078 non-null int64\n",
      "month         637078 non-null object\n",
      "day           637078 non-null object\n",
      "dh            637078 non-null int64\n",
      "dh2           637078 non-null int64\n",
      "gamenum       637078 non-null int64\n",
      "runners       637078 non-null int64\n",
      "batleft       637078 non-null int64\n",
      "pitleft       637078 non-null int64\n",
      "errthrow      637078 non-null int64\n",
      "errcatch      637078 non-null int64\n",
      "error         637078 non-null int64\n",
      "flyball       637078 non-null int64\n",
      "grounder      637078 non-null int64\n",
      "linedrive     637078 non-null int64\n",
      "popup         637078 non-null int64\n",
      "march         637078 non-null int64\n",
      "april         637078 non-null int64\n",
      "may           637078 non-null int64\n",
      "june          637078 non-null int64\n",
      "july          637078 non-null int64\n",
      "august        637078 non-null int64\n",
      "september     637078 non-null int64\n",
      "october       637078 non-null int64\n",
      "ANA           637078 non-null uint8\n",
      "ARI           637078 non-null uint8\n",
      "ATL           637078 non-null uint8\n",
      "BAL           637078 non-null uint8\n",
      "BOS           637078 non-null uint8\n",
      "CHA           637078 non-null uint8\n",
      "CHN           637078 non-null uint8\n",
      "CIN           637078 non-null uint8\n",
      "CLE           637078 non-null uint8\n",
      "COL           637078 non-null uint8\n",
      "DET           637078 non-null uint8\n",
      "FLO           637078 non-null uint8\n",
      "HOU           637078 non-null uint8\n",
      "KCA           637078 non-null uint8\n",
      "LAN           637078 non-null uint8\n",
      "MIA           637078 non-null uint8\n",
      "MIL           637078 non-null uint8\n",
      "MIN           637078 non-null uint8\n",
      "NYA           637078 non-null uint8\n",
      "NYN           637078 non-null uint8\n",
      "OAK           637078 non-null uint8\n",
      "PHI           637078 non-null uint8\n",
      "PIT           637078 non-null uint8\n",
      "SDN           637078 non-null uint8\n",
      "SEA           637078 non-null uint8\n",
      "SFN           637078 non-null uint8\n",
      "SLN           637078 non-null uint8\n",
      "TBA           637078 non-null uint8\n",
      "TEX           637078 non-null uint8\n",
      "TOR           637078 non-null uint8\n",
      "WAS           637078 non-null uint8\n",
      "0             637078 non-null uint8\n",
      "1             637078 non-null uint8\n",
      "2             637078 non-null uint8\n",
      "3             637078 non-null uint8\n",
      "4             637078 non-null uint8\n",
      "5             637078 non-null uint8\n",
      "6             637078 non-null uint8\n",
      "7             637078 non-null uint8\n",
      "8             637078 non-null uint8\n",
      "9             637078 non-null uint8\n",
      "dtypes: int64(38), object(2), uint8(41)\n",
      "memory usage: 224.2+ MB\n"
     ]
    }
   ],
   "source": [
    "#copy without fielder==0\n",
    "bbtest = bbfinal[bbfinal[0]!=1]\n",
    "bbtest.info()"
   ]
  },
  {
   "cell_type": "code",
   "execution_count": 60,
   "metadata": {},
   "outputs": [
    {
     "name": "stdout",
     "output_type": "stream",
     "text": [
      "7478\n",
      "0.009803805890411858\n",
      "10115\n",
      "0.0132609650417\n",
      "0.73929807217\n"
     ]
    }
   ],
   "source": [
    "zyx = 0\n",
    "for i in bbfinal['error']:\n",
    "    if i==1:\n",
    "        zyx=zyx+1\n",
    "gtlist = []\n",
    "        \n",
    "for i in bbfinal['gamenum']:\n",
    "    gtlist.append(i)\n",
    "\n",
    "abc = gtlist[637070]\n",
    "        \n",
    "print(zyx)\n",
    "print(zyx/len(bbfinal))\n",
    "print(abc)\n",
    "print(abc/len(bbfinal))\n",
    "print(zyx/abc)"
   ]
  },
  {
   "cell_type": "markdown",
   "metadata": {},
   "source": [
    "# Let's get into some regressions!!!"
   ]
  },
  {
   "cell_type": "code",
   "execution_count": 55,
   "metadata": {},
   "outputs": [
    {
     "name": "stderr",
     "output_type": "stream",
     "text": [
      "C:\\Users\\Keenan\\Anaconda3\\lib\\site-packages\\statsmodels\\compat\\pandas.py:56: FutureWarning: The pandas.core.datetools module is deprecated and will be removed in a future version. Please use the pandas.tseries module instead.\n",
      "  from pandas.core import datetools\n"
     ]
    }
   ],
   "source": [
    "import statsmodels.api as sm\n",
    "from scipy import stats\n",
    "from sklearn.linear_model import LinearRegression\n",
    "from sklearn.metrics import mean_squared_error,r2_score"
   ]
  },
  {
   "cell_type": "code",
   "execution_count": 142,
   "metadata": {
    "collapsed": true
   },
   "outputs": [],
   "source": [
    "#group the independents by relevant groups\n",
    "collist = (list(bbfinal.columns))\n",
    "\n",
    "stadvars = []\n",
    "for i in range(collist.index('ANA'),collist.index('WAS')):\n",
    "    stadvars.append(collist[i])\n",
    "\n",
    "deps = ['errthrow','errcatch','error']\n",
    "weathervars = ['maxtemp','precip','windspeed']\n",
    "monthvars = ['april','may','june','july','august','september','october']\n",
    "fieldvars = [1,3,4,5,6,7,8,9]\n",
    "hitvars = ['grounder','linedrive','popup']\n",
    "gamevars = ['run1st','run2nd','run3rd','bunt','home']\n",
    "scorevars = ['hoscore','awscore']\n",
    "extravars = ['flyball','march',2,'inning','home','run1st','run2nd','run3rd','leadoff','year','dh','gamenum','dh2','batleft','pitleft','outs']\n",
    "revisedstad = ['ARI','ATL','BAL','CHA','CIN','KCA','MIA','NYA','SDN','SEA','SFN','PHI','SLN','TBA']"
   ]
  },
  {
   "cell_type": "code",
   "execution_count": 143,
   "metadata": {},
   "outputs": [
    {
     "name": "stdout",
     "output_type": "stream",
     "text": [
      "                            OLS Regression Results                            \n",
      "==============================================================================\n",
      "Dep. Variable:                  error   R-squared:                       0.012\n",
      "Model:                            OLS   Adj. R-squared:                  0.011\n",
      "Method:                 Least Squares   F-statistic:                     464.2\n",
      "Date:                Thu, 14 Dec 2017   Prob (F-statistic):               0.00\n",
      "Time:                        18:15:11   Log-Likelihood:             6.0672e+05\n",
      "No. Observations:              637078   AIC:                        -1.213e+06\n",
      "Df Residuals:                  637061   BIC:                        -1.213e+06\n",
      "Df Model:                          16                                         \n",
      "Covariance Type:            nonrobust                                         \n",
      "==============================================================================\n",
      "                 coef    std err          t      P>|t|      [0.025      0.975]\n",
      "------------------------------------------------------------------------------\n",
      "const          0.0122      0.001      9.960      0.000       0.010       0.015\n",
      "grounder       0.0052      0.000     11.918      0.000       0.004       0.006\n",
      "linedrive      0.0005      0.000      1.264      0.206      -0.000       0.001\n",
      "popup         -0.0108      0.001    -17.153      0.000      -0.012      -0.010\n",
      "run1st         0.0039      0.000     12.938      0.000       0.003       0.004\n",
      "run2nd         0.0026      0.000      7.305      0.000       0.002       0.003\n",
      "run3rd         0.0016      0.000      3.692      0.000       0.001       0.002\n",
      "bunt           0.0170      0.001     20.038      0.000       0.015       0.019\n",
      "home           0.0006      0.000      2.492      0.013       0.000       0.001\n",
      "1              0.0056      0.001      4.558      0.000       0.003       0.008\n",
      "3             -0.0073      0.001     -6.098      0.000      -0.010      -0.005\n",
      "4             -0.0100      0.001     -8.527      0.000      -0.012      -0.008\n",
      "5              0.0041      0.001      3.484      0.000       0.002       0.006\n",
      "6             -0.0024      0.001     -2.018      0.044      -0.005   -6.75e-05\n",
      "7             -0.0134      0.001    -11.051      0.000      -0.016      -0.011\n",
      "8             -0.0138      0.001    -11.406      0.000      -0.016      -0.011\n",
      "9             -0.0133      0.001    -10.926      0.000      -0.016      -0.011\n",
      "==============================================================================\n",
      "Omnibus:                   987710.152   Durbin-Watson:                   1.991\n",
      "Prob(Omnibus):                  0.000   Jarque-Bera (JB):        303600728.953\n",
      "Skew:                          10.278   Prob(JB):                         0.00\n",
      "Kurtosis:                     107.951   Cond. No.                         41.5\n",
      "==============================================================================\n",
      "\n",
      "Warnings:\n",
      "[1] Standard Errors assume that the covariance matrix of the errors is correctly specified.\n"
     ]
    }
   ],
   "source": [
    "#test summary\n",
    "nana = hitvars+gamevars+fieldvars\n",
    "X = bbtest[nana]\n",
    "y = bbtest['error']\n",
    "\n",
    "X2 = sm.add_constant(X)\n",
    "est = sm.OLS(y, X2)\n",
    "est2 = est.fit()\n",
    "print(est2.summary())"
   ]
  },
  {
   "cell_type": "markdown",
   "metadata": {},
   "source": [
    "# part 2: bring in the weather data"
   ]
  },
  {
   "cell_type": "code",
   "execution_count": 33,
   "metadata": {
    "collapsed": true
   },
   "outputs": [],
   "source": [
    "weather1 = pd.read_csv('C:\\\\Users\\\\Keenan\\\\Desktop\\\\weathers\\\\A.csv', header=None)\n",
    "weather1.columns = weather1.iloc[0]\n",
    "weather1=weather1.reindex(weather1.index.drop(0))\n",
    "\n",
    "weather2 = pd.read_csv('C:\\\\Users\\\\Keenan\\\\Desktop\\\\weathers\\\\B.csv', header=None)\n",
    "weather2.columns = weather2.iloc[0]\n",
    "weather2=weather2.reindex(weather2.index.drop(0))\n",
    "\n",
    "weather3 = pd.read_csv('C:\\\\Users\\\\Keenan\\\\Desktop\\\\weathers\\\\C.csv', header=None)\n",
    "weather3.columns = weather3.iloc[0]\n",
    "weather3=weather3.reindex(weather3.index.drop(0))\n",
    "\n",
    "weather4 = pd.read_csv('C:\\\\Users\\\\Keenan\\\\Desktop\\\\weathers\\\\D.csv', header=None)\n",
    "weather4.columns = weather4.iloc[0]\n",
    "weather4=weather4.reindex(weather4.index.drop(0))\n",
    "\n",
    "weather5 = pd.read_csv('C:\\\\Users\\\\Keenan\\\\Desktop\\\\weathers\\\\E.csv', header=None)\n",
    "weather5.columns = weather5.iloc[0]\n",
    "weather5=weather5.reindex(weather5.index.drop(0))\n",
    "\n",
    "weathers=[weather1,weather2,weather3,weather4,weather5]\n",
    "weather = pd.concat(weathers)"
   ]
  },
  {
   "cell_type": "code",
   "execution_count": 34,
   "metadata": {
    "collapsed": true
   },
   "outputs": [],
   "source": [
    "#makes all weather 1 date strings 10 characters for later parsing\n",
    "dlist=[]\n",
    "newlist = []\n",
    "for i in weather['DATE']:\n",
    "    dlist.append(str(i))\n",
    "\n",
    "for i in dlist:\n",
    "    if len(i)==10:\n",
    "        newlist.append(i)\n",
    "    elif len(i)==9:\n",
    "        if i[1]=='/':\n",
    "            newlist.append(str('0'+i))\n",
    "        elif i[4]=='/':\n",
    "            newlist.append(str(i[0:3]+'0'+i[3:]))\n",
    "    elif len(i)==8:\n",
    "        newlist.append(str('0'+i[0:2]+'0'+i[2:]))\n",
    "        \n",
    "weather['DATE']=newlist"
   ]
  },
  {
   "cell_type": "code",
   "execution_count": 35,
   "metadata": {
    "collapsed": true
   },
   "outputs": [],
   "source": [
    "gudlist = []\n",
    "slist =[]\n",
    "for i in weather['STATION']:\n",
    "    slist.append(i)\n",
    "\n",
    "for i in range(len(slist)):\n",
    "    if slist[i]=='USW00013743':\n",
    "        gudlist.append(1)\n",
    "    else:\n",
    "        gudlist.append(0)\n",
    "\n",
    "weather['check']=gudlist\n",
    "weather=weather[weather['check']==1]\n",
    "\n",
    "#weather.info()"
   ]
  },
  {
   "cell_type": "code",
   "execution_count": 36,
   "metadata": {
    "collapsed": true
   },
   "outputs": [],
   "source": [
    "weather=weather.drop(['TAVG','TOBS'],axis=1)\n",
    "#weather.info()"
   ]
  },
  {
   "cell_type": "code",
   "execution_count": 37,
   "metadata": {
    "collapsed": true
   },
   "outputs": [],
   "source": [
    "#breaks down different DATE columns into year, month, and day lists\n",
    "dlist = []\n",
    "for i in weather['DATE']:\n",
    "    dlist.append(str(i))\n",
    "    \n",
    "ylist = []\n",
    "mlist =[]\n",
    "daylist=[]\n",
    "\n",
    "for i in dlist:\n",
    "    if i[2]=='/':\n",
    "        ylist.append(int(i[6:]))\n",
    "        mlist.append(int(i[:2]))\n",
    "        daylist.append(int(i[3:5]))\n",
    "    else:\n",
    "        ylist.append(int(i[0:4]))\n",
    "        mlist.append(int(i[5:7]))\n",
    "        daylist.append(int(i[8:10]))\n",
    "\n",
    "weather['day']=daylist\n",
    "weather['month']=mlist\n",
    "weather['year']=ylist"
   ]
  },
  {
   "cell_type": "code",
   "execution_count": 38,
   "metadata": {
    "collapsed": true
   },
   "outputs": [],
   "source": [
    "weather=weather.drop(['check','DATE'],axis=1)"
   ]
  },
  {
   "cell_type": "code",
   "execution_count": 39,
   "metadata": {
    "collapsed": true
   },
   "outputs": [],
   "source": [
    "weather=weather.drop(['STATION'],axis=1)"
   ]
  },
  {
   "cell_type": "code",
   "execution_count": 40,
   "metadata": {
    "collapsed": true
   },
   "outputs": [],
   "source": [
    "#creates a list of date strings for comparison to weather\n",
    "bblist = []\n",
    "\n",
    "bylist = []\n",
    "bmlist = []\n",
    "bdlist = []\n",
    "\n",
    "for i in bbfinal['year']:\n",
    "    bylist.append(str(i))\n",
    "for i in bbfinal['month']:\n",
    "    bmlist.append(str(i))\n",
    "for i in bbfinal['day']:\n",
    "    bdlist.append(str(i))\n",
    "\n",
    "for i in range(0,len(bbfinal)):\n",
    "    bblist.append(str(bylist[i]+bmlist[i]+bdlist[i]))"
   ]
  },
  {
   "cell_type": "code",
   "execution_count": 41,
   "metadata": {
    "collapsed": true
   },
   "outputs": [],
   "source": [
    "datelist = set(bblist)"
   ]
  },
  {
   "cell_type": "code",
   "execution_count": 42,
   "metadata": {},
   "outputs": [
    {
     "name": "stdout",
     "output_type": "stream",
     "text": [
      "1225\n"
     ]
    }
   ],
   "source": [
    "#creates a list of date strings for comparison to weather\n",
    "welist = []\n",
    "\n",
    "wylist = []\n",
    "wmlist = []\n",
    "wdlist = []\n",
    "\n",
    "for i in weather['year']:\n",
    "    wylist.append(str(i))\n",
    "for i in weather['month']:\n",
    "    i=str(i)\n",
    "    if len(i)==1:\n",
    "        wmlist.append(str('0'+i))\n",
    "    elif len(i)==2:\n",
    "        wmlist.append(i)\n",
    "for i in weather['day']:\n",
    "    i=str(i)\n",
    "    if len(i)==1:\n",
    "        wdlist.append(str('0'+i))\n",
    "    elif len(i)==2:\n",
    "        wdlist.append(i)\n",
    "\n",
    "for i in range(0,len(weather)):\n",
    "    welist.append(str(wylist[i]+wmlist[i]+wdlist[i]))\n",
    "    \n",
    "print(len(welist))"
   ]
  },
  {
   "cell_type": "code",
   "execution_count": 43,
   "metadata": {
    "collapsed": true
   },
   "outputs": [],
   "source": [
    "weather['datestamp']=welist\n",
    "bbfinal['datestamp']=bblist"
   ]
  },
  {
   "cell_type": "code",
   "execution_count": 44,
   "metadata": {
    "collapsed": true
   },
   "outputs": [],
   "source": [
    "weatherindex = []\n",
    "for i in bblist:\n",
    "    weatherindex.append(welist.index(i))"
   ]
  },
  {
   "cell_type": "code",
   "execution_count": 49,
   "metadata": {},
   "outputs": [],
   "source": [
    "#creates lists for weather vars\n",
    "wind = []\n",
    "for i in weather['AWND']:\n",
    "    wind.append(i)\n",
    "prec = []\n",
    "for i in weather['PRCP']:\n",
    "    prec.append(i)\n",
    "tmax = []\n",
    "for i in weather['TMAX']:\n",
    "    tmax.append(i)\n",
    "tmin = []\n",
    "for i in weather['TMIN']:\n",
    "    tmin.append(i)\n",
    "    \n",
    "windlist=[]\n",
    "preclist=[]\n",
    "tminlist=[]\n",
    "tmaxlist=[]\n",
    "tavglist=[]\n",
    "\n",
    "for i in weatherindex:\n",
    "    windlist.append(float(wind[i]))\n",
    "    preclist.append(float(prec[i]))\n",
    "    tmaxlist.append(float(tmax[i]))\n",
    "    tminlist.append(float(tmin[i]))\n",
    "    tavglist.append(float((float(tmax[i])+float(tmin[i]))/2))"
   ]
  },
  {
   "cell_type": "code",
   "execution_count": 50,
   "metadata": {},
   "outputs": [],
   "source": [
    "#creates DCbball for narrowing down to DC entries, adds weather\n",
    "DCbball = bbfinal\n",
    "DCbball['maxtemp']=tmaxlist\n",
    "DCbball['mintemp']=tminlist\n",
    "DCbball['precip']=preclist\n",
    "DCbball['windspeed']=windlist\n",
    "DCbball['avgtemp']=tavglist"
   ]
  },
  {
   "cell_type": "code",
   "execution_count": 51,
   "metadata": {
    "collapsed": true
   },
   "outputs": [],
   "source": [
    "#destroys all but washington events (down to 25,000)\n",
    "DCbball=DCbball[DCbball['WAS']==1]"
   ]
  },
  {
   "cell_type": "code",
   "execution_count": 52,
   "metadata": {},
   "outputs": [
    {
     "ename": "NameError",
     "evalue": "name 'stadvars' is not defined",
     "output_type": "error",
     "traceback": [
      "\u001b[1;31m---------------------------------------------------------------------------\u001b[0m",
      "\u001b[1;31mNameError\u001b[0m                                 Traceback (most recent call last)",
      "\u001b[1;32m<ipython-input-52-ceb24828c7e4>\u001b[0m in \u001b[0;36m<module>\u001b[1;34m()\u001b[0m\n\u001b[1;32m----> 1\u001b[1;33m \u001b[0mDCbball\u001b[0m\u001b[1;33m=\u001b[0m\u001b[0mDCbball\u001b[0m\u001b[1;33m.\u001b[0m\u001b[0mdrop\u001b[0m\u001b[1;33m(\u001b[0m\u001b[0mstadvars\u001b[0m\u001b[1;33m)\u001b[0m\u001b[1;33m\u001b[0m\u001b[0m\n\u001b[0m",
      "\u001b[1;31mNameError\u001b[0m: name 'stadvars' is not defined"
     ]
    }
   ],
   "source": [
    "DCbball=DCbball.drop(stadvars)"
   ]
  },
  {
   "cell_type": "code",
   "execution_count": 53,
   "metadata": {
    "collapsed": true
   },
   "outputs": [],
   "source": [
    "#group the independents by relevant groups\n",
    "dcollist = (list(DCbball.columns))\n",
    "\n",
    "deps = ['errthrow','errcatch','error']\n",
    "weathervars = ['avgtemp','precip','windspeed']\n",
    "monthvars = ['march','april','may','june','july','august','september','october']\n",
    "fieldvars = [1,2,3,4,5,6,7,8,9]\n",
    "hitvars = ['flyball','grounder','linedrive']\n",
    "gamevars = ['outs','runners','lineup','bunt','foul','batleft','pitleft','flyball','grounder','linedrive','popup']\n",
    "scorevars = ['hoscore','awscore']\n",
    "extravars = ['inning','home','run1st','run2nd','run3rd','leadoff','year','dh','gamenum','dh2']"
   ]
  },
  {
   "cell_type": "code",
   "execution_count": 54,
   "metadata": {},
   "outputs": [
    {
     "ename": "NameError",
     "evalue": "name 'sm' is not defined",
     "output_type": "error",
     "traceback": [
      "\u001b[1;31m---------------------------------------------------------------------------\u001b[0m",
      "\u001b[1;31mNameError\u001b[0m                                 Traceback (most recent call last)",
      "\u001b[1;32m<ipython-input-54-0ae3a9edba3d>\u001b[0m in \u001b[0;36m<module>\u001b[1;34m()\u001b[0m\n\u001b[0;32m      3\u001b[0m \u001b[0my\u001b[0m \u001b[1;33m=\u001b[0m \u001b[0mDCbball\u001b[0m\u001b[1;33m[\u001b[0m\u001b[1;34m'error'\u001b[0m\u001b[1;33m]\u001b[0m\u001b[1;33m\u001b[0m\u001b[0m\n\u001b[0;32m      4\u001b[0m \u001b[1;33m\u001b[0m\u001b[0m\n\u001b[1;32m----> 5\u001b[1;33m \u001b[0mX2\u001b[0m \u001b[1;33m=\u001b[0m \u001b[0msm\u001b[0m\u001b[1;33m.\u001b[0m\u001b[0madd_constant\u001b[0m\u001b[1;33m(\u001b[0m\u001b[0mX\u001b[0m\u001b[1;33m)\u001b[0m\u001b[1;33m\u001b[0m\u001b[0m\n\u001b[0m\u001b[0;32m      6\u001b[0m \u001b[0mest\u001b[0m \u001b[1;33m=\u001b[0m \u001b[0msm\u001b[0m\u001b[1;33m.\u001b[0m\u001b[0mOLS\u001b[0m\u001b[1;33m(\u001b[0m\u001b[0my\u001b[0m\u001b[1;33m,\u001b[0m \u001b[0mX2\u001b[0m\u001b[1;33m)\u001b[0m\u001b[1;33m\u001b[0m\u001b[0m\n\u001b[0;32m      7\u001b[0m \u001b[0mest2\u001b[0m \u001b[1;33m=\u001b[0m \u001b[0mest\u001b[0m\u001b[1;33m.\u001b[0m\u001b[0mfit\u001b[0m\u001b[1;33m(\u001b[0m\u001b[1;33m)\u001b[0m\u001b[1;33m\u001b[0m\u001b[0m\n",
      "\u001b[1;31mNameError\u001b[0m: name 'sm' is not defined"
     ]
    }
   ],
   "source": [
    "dvars = weathervars\n",
    "X = DCbball[dvars]\n",
    "y = DCbball['error']\n",
    "\n",
    "X2 = sm.add_constant(X)\n",
    "est = sm.OLS(y, X2)\n",
    "est2 = est.fit()\n",
    "print(est2.summary())"
   ]
  },
  {
   "cell_type": "markdown",
   "metadata": {},
   "source": [
    "# let's try removing balls that aren't hit (ie 0==1)"
   ]
  },
  {
   "cell_type": "code",
   "execution_count": 56,
   "metadata": {
    "collapsed": true
   },
   "outputs": [],
   "source": [
    "DCtest = DCbball[DCbball[0]==0]"
   ]
  },
  {
   "cell_type": "code",
   "execution_count": 58,
   "metadata": {
    "collapsed": true
   },
   "outputs": [],
   "source": [
    "#group the independents by relevant groups\n",
    "dcollist = (list(DCbball.columns))\n",
    "\n",
    "deps = ['errthrow','errcatch','error']\n",
    "weathervars = ['avgtemp','precip','windspeed']\n",
    "monthvars = ['april','may','june','july','august','september','october']\n",
    "fieldvars = [1,3,4,5,6,7,8,9]\n",
    "hitvars = ['grounder','linedrive','popup']\n",
    "gamevars = ['runners','lineup','bunt','foul']\n",
    "scorevars = ['hoscore','awscore']\n",
    "extravars = ['flyball','march',2,'inning','home','run1st','run2nd','run3rd','leadoff','year','dh','gamenum','dh2','batleft','pitleft','outs']"
   ]
  },
  {
   "cell_type": "code",
   "execution_count": 59,
   "metadata": {},
   "outputs": [
    {
     "name": "stdout",
     "output_type": "stream",
     "text": [
      "                            OLS Regression Results                            \n",
      "==============================================================================\n",
      "Dep. Variable:                  error   R-squared:                       0.000\n",
      "Model:                            OLS   Adj. R-squared:                 -0.000\n",
      "Method:                 Least Squares   F-statistic:                    0.3255\n",
      "Date:                Fri, 15 Dec 2017   Prob (F-statistic):              0.807\n",
      "Time:                        01:36:00   Log-Likelihood:                 18573.\n",
      "No. Observations:               21324   AIC:                        -3.714e+04\n",
      "Df Residuals:                   21320   BIC:                        -3.711e+04\n",
      "Df Model:                           3                                         \n",
      "Covariance Type:            nonrobust                                         \n",
      "==============================================================================\n",
      "                 coef    std err          t      P>|t|      [0.025      0.975]\n",
      "------------------------------------------------------------------------------\n",
      "const          0.0133      0.006      2.242      0.025       0.002       0.025\n",
      "avgtemp    -3.288e-05   7.09e-05     -0.464      0.643      -0.000       0.000\n",
      "precip        -0.0022      0.003     -0.855      0.392      -0.007       0.003\n",
      "windspeed  -3.392e-05      0.000     -0.129      0.897      -0.001       0.000\n",
      "==============================================================================\n",
      "Omnibus:                    31965.781   Durbin-Watson:                   1.994\n",
      "Prob(Omnibus):                  0.000   Jarque-Bera (JB):          7769488.010\n",
      "Skew:                           9.669   Prob(JB):                         0.00\n",
      "Kurtosis:                      94.491   Cond. No.                         633.\n",
      "==============================================================================\n",
      "\n",
      "Warnings:\n",
      "[1] Standard Errors assume that the covariance matrix of the errors is correctly specified.\n"
     ]
    }
   ],
   "source": [
    "dvars = weathervars\n",
    "X = DCtest[dvars]\n",
    "y = DCtest['error']\n",
    "\n",
    "X2 = sm.add_constant(X)\n",
    "est = sm.OLS(y, X2)\n",
    "est2 = est.fit()\n",
    "print(est2.summary())"
   ]
  },
  {
   "cell_type": "code",
   "execution_count": null,
   "metadata": {
    "collapsed": true
   },
   "outputs": [],
   "source": []
  }
 ],
 "metadata": {
  "kernelspec": {
   "display_name": "Python 3",
   "language": "python",
   "name": "python3"
  },
  "language_info": {
   "codemirror_mode": {
    "name": "ipython",
    "version": 3
   },
   "file_extension": ".py",
   "mimetype": "text/x-python",
   "name": "python",
   "nbconvert_exporter": "python",
   "pygments_lexer": "ipython3",
   "version": "3.6.3"
  }
 },
 "nbformat": 4,
 "nbformat_minor": 2
}
